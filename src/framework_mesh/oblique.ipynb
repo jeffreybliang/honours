{
 "cells": [
  {
   "cell_type": "code",
   "execution_count": 6,
   "metadata": {},
   "outputs": [],
   "source": [
    "import trimesh\n",
    "import numpy as np\n",
    "from scipy import integrate, optimize\n",
    "import math"
   ]
  },
  {
   "cell_type": "code",
   "execution_count": 7,
   "metadata": {},
   "outputs": [
    {
     "data": {
      "text/plain": [
       "4.397630983694728"
      ]
     },
     "execution_count": 7,
     "metadata": {},
     "output_type": "execute_result"
    }
   ],
   "source": [
    "trimesh.load(\"/Users/jeffreyliang/Documents/Honours/Blender/oblique/exports/Oblique1T.obj\").volume"
   ]
  },
  {
   "cell_type": "code",
   "execution_count": 3,
   "metadata": {},
   "outputs": [
    {
     "data": {
      "text/plain": [
       "1.167870516925169"
      ]
     },
     "execution_count": 3,
     "metadata": {},
     "output_type": "execute_result"
    }
   ],
   "source": [
    "def R(x, s, C):\n",
    "    return s * np.sqrt(1.2**2 - x**2) * (0.1*x + C)\n",
    "\n",
    "def A_slice(x, s, u, C):\n",
    "    d = 2*x + u\n",
    "    R0 = R(x, s, C)\n",
    "    if d >= R0:\n",
    "        return 0.0  # Entire disk is below the plane → remove all\n",
    "    elif d <= -R0:\n",
    "        return np.pi * R0**2  # Entire disk is above the plane → keep all\n",
    "    else:\n",
    "        return R0**2 * np.arccos(d / R0) - d * np.sqrt(R0**2 - d**2)\n",
    "\n",
    "def V_total(s, u, C):\n",
    "    f = lambda x: A_slice(x, s, u, C)\n",
    "    return integrate.quad(f, -1.2, 1.2)[0]\n",
    "\n",
    "def find_s(u, C):\n",
    "    # target volume = 1.4*pi\n",
    "    target = 1.4*np.pi\n",
    "    root = optimize.brentq(lambda s: V_total(s, u, C) - target,\n",
    "                          a=1e-3, b=1e3)\n",
    "    return root\n",
    "\n",
    "C = np.sqrt(544283/10)/300\n",
    "V_total(1, -3, C)\n",
    "find_s(-1, C)"
   ]
  },
  {
   "cell_type": "code",
   "execution_count": 5,
   "metadata": {},
   "outputs": [
    {
     "data": {
      "text/plain": [
       "3.2467044950125805"
      ]
     },
     "execution_count": 5,
     "metadata": {},
     "output_type": "execute_result"
    }
   ],
   "source": [
    "V_total(1, -1, C)"
   ]
  },
  {
   "cell_type": "code",
   "execution_count": 4,
   "metadata": {},
   "outputs": [
    {
     "data": {
      "text/plain": [
       "1.167870516925169"
      ]
     },
     "execution_count": 4,
     "metadata": {},
     "output_type": "execute_result"
    }
   ],
   "source": [
    "find_s(-1, C)"
   ]
  },
  {
   "cell_type": "code",
   "execution_count": 7,
   "metadata": {},
   "outputs": [
    {
     "data": {
      "text/plain": [
       "1.024821538398861"
      ]
     },
     "execution_count": 7,
     "metadata": {},
     "output_type": "execute_result"
    }
   ],
   "source": [
    "find_s(-2, C)"
   ]
  },
  {
   "cell_type": "code",
   "execution_count": 8,
   "metadata": {},
   "outputs": [
    {
     "data": {
      "text/plain": [
       "1.0794698191816499"
      ]
     },
     "execution_count": 8,
     "metadata": {},
     "output_type": "execute_result"
    }
   ],
   "source": [
    "find_s(-1.5, C)"
   ]
  },
  {
   "cell_type": "code",
   "execution_count": 5,
   "metadata": {},
   "outputs": [
    {
     "data": {
      "text/plain": [
       "1.4803106027848818"
      ]
     },
     "execution_count": 5,
     "metadata": {},
     "output_type": "execute_result"
    }
   ],
   "source": [
    "find_s(0, C)"
   ]
  },
  {
   "cell_type": "code",
   "execution_count": 11,
   "metadata": {},
   "outputs": [
    {
     "data": {
      "text/plain": [
       "[-2.7, -2.5, -2.3, -2.1, -1.9, -1.7, -1.5, -1.3, -1.1, -0.9, -0.7]"
      ]
     },
     "execution_count": 11,
     "metadata": {},
     "output_type": "execute_result"
    }
   ],
   "source": [
    "[round(u, 2) for u in np.arange(-2.7, -0.7 + 0.01, 0.2)]\n"
   ]
  },
  {
   "cell_type": "code",
   "execution_count": 9,
   "metadata": {},
   "outputs": [
    {
     "name": "stdout",
     "output_type": "stream",
     "text": [
      "Initial velocity v = 3.15\n"
     ]
    },
    {
     "data": {
      "text/plain": [
       "array([-6.26, -6.11, -5.95, -5.78, -5.6 , -5.41, -5.21, -5.  , -4.78,\n",
       "       -4.56, -4.32, -4.07, -3.82, -3.55, -3.27, -2.99, -2.7 , -2.39,\n",
       "       -2.08, -1.76, -1.42, -1.08, -0.73, -0.37, -0.  ])"
      ]
     },
     "execution_count": 9,
     "metadata": {},
     "output_type": "execute_result"
    }
   ],
   "source": [
    "# Parameters (match Desmos)\n",
    "d = 2.8\n",
    "f = 24\n",
    "t = 0.5\n",
    "\n",
    "# Derived values\n",
    "v = d / t - 4.9 * t\n",
    "print(f\"Initial velocity v = {v:.2f}\")\n",
    "\n",
    "# Function definition for g(x)\n",
    "def g(x, d, f, t):\n",
    "    linear = (d / f - 4.9 * t**2 / f) * x\n",
    "    quad = 4.9 * (x * t / f)**2\n",
    "    return linear + quad\n",
    "\n",
    "# Discrete steps from x = 0 to f\n",
    "X = np.arange(0, f + 1)\n",
    "g_X = g(X, d, f, t)\n",
    "\n",
    "# Compute transformed u values\n",
    "u_values = (d - g_X) * np.sqrt(5)\n",
    "-u_values.round(2)"
   ]
  },
  {
   "cell_type": "code",
   "execution_count": null,
   "metadata": {},
   "outputs": [],
   "source": []
  }
 ],
 "metadata": {
  "kernelspec": {
   "display_name": "venv",
   "language": "python",
   "name": "python3"
  },
  "language_info": {
   "codemirror_mode": {
    "name": "ipython",
    "version": 3
   },
   "file_extension": ".py",
   "mimetype": "text/x-python",
   "name": "python",
   "nbconvert_exporter": "python",
   "pygments_lexer": "ipython3",
   "version": "3.12.9"
  },
  "orig_nbformat": 4,
  "vscode": {
   "interpreter": {
    "hash": "c3c5e5b74b02413c78a36d1154fc177d57260c9d451ea89539c66d8b3bbae5e7"
   }
  }
 },
 "nbformat": 4,
 "nbformat_minor": 2
}
