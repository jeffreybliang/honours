{
 "cells": [
  {
   "cell_type": "code",
   "execution_count": 5,
   "metadata": {},
   "outputs": [],
   "source": [
    "import trimesh\n",
    "import numpy as np\n",
    "from scipy import integrate, optimize\n",
    "import math"
   ]
  },
  {
   "cell_type": "code",
   "execution_count": 24,
   "metadata": {},
   "outputs": [
    {
     "data": {
      "text/plain": [
       "0.0"
      ]
     },
     "execution_count": 24,
     "metadata": {},
     "output_type": "execute_result"
    }
   ],
   "source": [
    "trimesh.load(\"../../../Blender/oblique/obliquedeform2.obj\").volume"
   ]
  },
  {
   "cell_type": "code",
   "execution_count": 21,
   "metadata": {},
   "outputs": [
    {
     "data": {
      "text/plain": [
       "1.167870516925169"
      ]
     },
     "execution_count": 21,
     "metadata": {},
     "output_type": "execute_result"
    }
   ],
   "source": [
    "def R(x, s, C):\n",
    "    return s * np.sqrt(1.2**2 - x**2) * (0.1*x + C)\n",
    "\n",
    "def A_slice(x, s, u, C):\n",
    "    d = 2*x + u\n",
    "    R0 = R(x, s, C)\n",
    "    if d >= R0:\n",
    "        return 0.0  # Entire disk is below the plane → remove all\n",
    "    elif d <= -R0:\n",
    "        return np.pi * R0**2  # Entire disk is above the plane → keep all\n",
    "    else:\n",
    "        return R0**2 * np.arccos(d / R0) - d * np.sqrt(R0**2 - d**2)\n",
    "\n",
    "def V_total(s, u, C):\n",
    "    f = lambda x: A_slice(x, s, u, C)\n",
    "    return integrate.quad(f, -1.2, 1.2)[0]\n",
    "\n",
    "def find_s(u, C):\n",
    "    # target volume = 1.4*pi\n",
    "    target = 1.4*np.pi\n",
    "    root = optimize.brentq(lambda s: V_total(s, u, C) - target,\n",
    "                          a=1e-3, b=1e3)\n",
    "    return root\n",
    "\n",
    "C = np.sqrt(544283/10)/300\n",
    "V_total(1, -3, C)\n",
    "find_s(-1, C)"
   ]
  },
  {
   "cell_type": "code",
   "execution_count": 20,
   "metadata": {},
   "outputs": [
    {
     "data": {
      "text/plain": [
       "3.2467044950125805"
      ]
     },
     "execution_count": 20,
     "metadata": {},
     "output_type": "execute_result"
    }
   ],
   "source": [
    "V_total(1, -1, C)"
   ]
  },
  {
   "cell_type": "code",
   "execution_count": null,
   "metadata": {},
   "outputs": [],
   "source": []
  }
 ],
 "metadata": {
  "kernelspec": {
   "display_name": "venv",
   "language": "python",
   "name": "python3"
  },
  "language_info": {
   "codemirror_mode": {
    "name": "ipython",
    "version": 3
   },
   "file_extension": ".py",
   "mimetype": "text/x-python",
   "name": "python",
   "nbconvert_exporter": "python",
   "pygments_lexer": "ipython3",
   "version": "3.12.9"
  },
  "orig_nbformat": 4,
  "vscode": {
   "interpreter": {
    "hash": "c3c5e5b74b02413c78a36d1154fc177d57260c9d451ea89539c66d8b3bbae5e7"
   }
  }
 },
 "nbformat": 4,
 "nbformat_minor": 2
}
