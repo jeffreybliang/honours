{
 "cells": [
  {
   "cell_type": "code",
   "execution_count": 6,
   "metadata": {},
   "outputs": [],
   "source": [
    "# have a pytorch mesh\n",
    "from pytorch3d.structures import Meshes\n",
    "import torch\n",
    "\n",
    "def get_signed_tet_volume(triangle):\n",
    "    \"\"\"\n",
    "    triangle is a Tensor of 3 x 3, 3 vertices each with 3 coordinates\n",
    "    \"\"\"\n",
    "    v1,v2,v3 = triangle\n",
    "    return torch.dot(v1,torch.cross(v2,v3))/6.0 # could also move this later\n",
    "\n",
    "def get_volume(mesh: Meshes):\n",
    "    volume = 0\n",
    "    for triangle in mesh.faces_list():\n",
    "        volume += get_signed_tet_volume(triangle)\n",
    "    return volume   \n",
    "\n",
    "def get_parallelepiped_volume(triangle):\n",
    "    v1,v2,v3 = triangle\n",
    "    return torch.dot(v1,torch.cross(v2,v3)) # could also move this later\n",
    "\n",
    "def get_volume(mesh: Meshes):\n",
    "    volume = 0.0\n",
    "    for triangle in mesh.faces_list():\n",
    "        volume += get_parallelepiped_volume(triangle)\n",
    "    return volume / 6.0\n"
   ]
  },
  {
   "cell_type": "code",
   "execution_count": 7,
   "metadata": {},
   "outputs": [],
   "source": [
    "\n",
    "def get_signed_tet_volume(face_vertices: torch.Tensor) -> torch.Tensor:\n",
    "    \"\"\"\n",
    "    Compute signed tetrahedron volumes for a batch of faces.\n",
    "\n",
    "    Args:\n",
    "        face_vertices (torch.Tensor): Tensor of shape (F, 3, 3), where\n",
    "                                      F is the number of faces, and each face\n",
    "                                      consists of 3 vertices in 3D.\n",
    "\n",
    "    Returns:\n",
    "        torch.Tensor: A tensor of shape (F,) containing signed volumes.\n",
    "    \"\"\"\n",
    "    v0, v1, v2 = face_vertices[:, 0, :], face_vertices[:, 1, :], face_vertices[:, 2, :]\n",
    "    \n",
    "    # Compute determinant of the 3x3 matrix [v0, v1, v2]\n",
    "    volumes = torch.det(torch.stack([v0, v1, v2], dim=-1)) / 6.0  # Shape: (F,)\n",
    "\n",
    "    return volumes\n",
    "\n",
    "def get_volume_batch(meshes: Meshes):\n",
    "    verts_packed = meshes.verts_packed()  # (sum(V_i), 3)\n",
    "    faces_packed = meshes.faces_packed()  # (sum(F_i), 3)\n",
    "    mesh_to_face = meshes.mesh_to_faces_packed_first_idx()  # Index of first face per mesh\n",
    "    n_meshes = len(meshes)\n",
    "    volumes = torch.zeros(n_meshes, device=verts_packed.device)\n",
    "\n",
    "    for i in range(n_meshes):\n",
    "        start = mesh_to_face[i]\n",
    "        end = start + meshes.num_faces_per_mesh()[i]\n",
    "        face_vertices = verts_packed[faces_packed[start:end]]  # (F, 3, 3)\n",
    "        volumes[i] = get_signed_tet_volume(face_vertices).sum()  # Sum over all faces\n",
    "\n",
    "    return volumes  # Returns a tensor of shape (num_meshes,)\n",
    "\n",
    "\n",
    "def get_volume_scatter_add(meshes: Meshes):\n",
    "    verts_packed = meshes.verts_packed()  # (sum(V_i), 3)\n",
    "    faces_packed = meshes.faces_packed()  # (sum(F_i), 3)\n",
    "    \n",
    "    face_vertices = verts_packed[faces_packed]  # (sum(F_i), 3, 3)\n",
    "    face_volumes = get_signed_tet_volume(face_vertices)  # (sum(F_i),)\n",
    "    n_meshes = len(meshes)\n",
    "\n",
    "    # Sum per mesh using torch_scatter\n",
    "    volumes = torch.zeros(n_meshes, device=verts_packed.device, dtype=face_volumes.dtype)\n",
    "    volumes.scatter_add_(0, meshes.faces_packed_to_mesh_idx(), face_volumes)\n",
    "    return volumes  # Shape: (num_meshes,)"
   ]
  },
  {
   "cell_type": "code",
   "execution_count": 8,
   "metadata": {},
   "outputs": [],
   "source": [
    "def signed_volume_gradient(meshes: Meshes):\n",
    "    verts_packed = meshes.verts_packed()  # (sum(V_i), 3)\n",
    "    faces_packed = meshes.faces_packed()  # (sum(F_i), 3)\n",
    "    p0 = verts_packed[faces_packed[:, 0]]  # (sum(F_i), 3)\n",
    "    p1 = verts_packed[faces_packed[:, 1]]\n",
    "    p2 = verts_packed[faces_packed[:, 2]]\n",
    "\n",
    "    # Compute cross products for gradients\n",
    "    grad_p0 = torch.cross(p1, p2, dim=1) / 6.0\n",
    "    grad_p1 = torch.cross(p2, p0, dim=1) / 6.0\n",
    "    grad_p2 = torch.cross(p0, p1, dim=1) / 6.0\n",
    "\n",
    "    # Scatter gradients back to vertices\n",
    "    grad_verts = torch.zeros_like(verts_packed)\n",
    "    grad_verts.scatter_add_(0, faces_packed[:, 0].unsqueeze(1).expand(-1, 3), grad_p0)\n",
    "    grad_verts.scatter_add_(0, faces_packed[:, 1].unsqueeze(1).expand(-1, 3), grad_p1)\n",
    "    grad_verts.scatter_add_(0, faces_packed[:, 2].unsqueeze(1).expand(-1, 3), grad_p2)\n",
    "\n",
    "    return grad_verts"
   ]
  },
  {
   "cell_type": "code",
   "execution_count": 9,
   "metadata": {},
   "outputs": [
    {
     "name": "stdout",
     "output_type": "stream",
     "text": [
      "Signed volume gradients:\n",
      " tensor([[ 0.0000,  0.0000,  0.1667],\n",
      "        [ 0.1667,  0.0000, -0.1667],\n",
      "        [ 0.0000,  0.1667, -0.1667],\n",
      "        [ 0.0000,  0.0000,  0.1667]])\n"
     ]
    }
   ],
   "source": [
    "vertices = torch.tensor([[0.0, 0.0, 1.0],  # Vertex 0\n",
    "                         [1.0, 0.0, 0.0],  # Vertex 1\n",
    "                         [0.0, 1.0, 0.0],  # Vertex 2\n",
    "                         [1.0, 1.0, 0.0]]) # Vertex 3\n",
    "\n",
    "# Define two faces (two triangles)\n",
    "faces = torch.tensor([[0, 1, 2],  # Face 1\n",
    "                      [1, 2, 3]]) # Face 2\n",
    "\n",
    "# Create the Meshes object\n",
    "mesh = Meshes(verts=[vertices], faces=[faces])\n",
    "gradients = signed_volume_gradient(mesh)\n",
    "\n",
    "# Output the gradients for each vertex\n",
    "print(\"Signed volume gradients:\\n\", gradients)\n"
   ]
  },
  {
   "cell_type": "code",
   "execution_count": 23,
   "metadata": {},
   "outputs": [
    {
     "data": {
      "text/plain": [
       "tensor([[-0.4082, -0.4082, -0.8165],\n",
       "        [ 0.6667, -0.6667, -0.3333],\n",
       "        [ 0.4082,  0.4082, -0.8165],\n",
       "        [-0.6667,  0.6667, -0.3333],\n",
       "        [-0.6667, -0.6667,  0.3333],\n",
       "        [ 0.4082, -0.4082,  0.8165],\n",
       "        [ 0.6667,  0.6667,  0.3333],\n",
       "        [-0.4082,  0.4082,  0.8165],\n",
       "        [ 0.0000,  0.0000,  1.0000],\n",
       "        [ 0.4472,  0.0000,  0.8944],\n",
       "        [ 0.0000,  0.4472,  0.8944],\n",
       "        [-0.5774, -0.5774,  0.5774]])"
      ]
     },
     "execution_count": 23,
     "metadata": {},
     "output_type": "execute_result"
    }
   ],
   "source": [
    "verts = torch.tensor([\n",
    "    [-0.5, -0.5, -0.5],  # 0\n",
    "    [ 0.5, -0.5, -0.5],  # 1\n",
    "    [ 0.5,  0.5, -0.5],  # 2\n",
    "    [-0.5,  0.5, -0.5],  # 3\n",
    "    [-0.5, -0.5,  0.5],  # 4\n",
    "    [ 0.5, -0.5,  0.5],  # 5\n",
    "    [ 0.5,  0.5,  0.5],  # 6\n",
    "    [-0.5,  0.5,  0.5]   # 7\n",
    "], dtype=torch.float32)\n",
    "faces = torch.tensor([\n",
    "    [0, 2, 1], [0, 3, 2],  # Front\n",
    "    [1, 6, 5], [1, 2, 6],  # Right\n",
    "    [5, 7, 4], [5, 6, 7],  # Back\n",
    "    [4, 3, 0], [4, 7, 3],  # Left\n",
    "    [3, 6, 2], [3, 7, 6],  # Top\n",
    "    [4, 1, 5], [4, 0, 1]   # Bottom\n",
    "], dtype=torch.int64)\n",
    "\n",
    "verts2 = torch.tensor([\n",
    "    [0,0,1],\n",
    "    [1,0,0],\n",
    "    [0,1,0], \n",
    "    [0,0,0]], dtype=torch.float32)\n",
    "faces2 = torch.tensor([\n",
    "    [3, 1, 2],\n",
    "    [3, 1, 0],\n",
    "    [3, 0, 2],\n",
    "    [0, 1, 2]\n",
    "], dtype=torch.int64)\n",
    "\n",
    "                      \n",
    "# Create batched cube mesh (batch size 1)\n",
    "mesh = Meshes(verts=[verts,verts2], faces=[faces,faces2])\n",
    "mesh.verts_normals_packed()\n"
   ]
  },
  {
   "cell_type": "code",
   "execution_count": 24,
   "metadata": {},
   "outputs": [
    {
     "name": "stdout",
     "output_type": "stream",
     "text": [
      "Volume: tensor([1.0000, 0.1667])\n"
     ]
    }
   ],
   "source": [
    "volume = get_volume_scatter_add(mesh)\n",
    "print(\"Volume:\", volume)"
   ]
  },
  {
   "cell_type": "code",
   "execution_count": 25,
   "metadata": {},
   "outputs": [
    {
     "name": "stdout",
     "output_type": "stream",
     "text": [
      "tensor([[-0.5000, -0.5000, -0.5000],\n",
      "        [ 0.5000, -0.5000, -0.5000],\n",
      "        [ 0.5000,  0.5000, -0.5000],\n",
      "        [-0.5000,  0.5000, -0.5000],\n",
      "        [-0.5000, -0.5000,  0.5000],\n",
      "        [ 0.5000, -0.5000,  0.5000],\n",
      "        [ 0.5000,  0.5000,  0.5000],\n",
      "        [-0.5000,  0.5000,  0.5000]])\n",
      "tensor([[0., 0., 1.],\n",
      "        [1., 0., 0.],\n",
      "        [0., 1., 0.],\n",
      "        [0., 0., 0.]])\n"
     ]
    }
   ],
   "source": [
    "for m in mesh:\n",
    "    print(m.verts_packed())"
   ]
  },
  {
   "cell_type": "code",
   "execution_count": 12,
   "metadata": {},
   "outputs": [
    {
     "data": {
      "text/plain": [
       "tensor([0.1667], dtype=torch.float64)"
      ]
     },
     "execution_count": 12,
     "metadata": {},
     "output_type": "execute_result"
    }
   ],
   "source": [
    "get_signed_tet_volume(torch.tensor([[[0,0,1],[1,0,0],[0,1,0]]],dtype=float))"
   ]
  },
  {
   "cell_type": "code",
   "execution_count": null,
   "metadata": {},
   "outputs": [],
   "source": []
  }
 ],
 "metadata": {
  "kernelspec": {
   "display_name": "venv",
   "language": "python",
   "name": "python3"
  },
  "language_info": {
   "codemirror_mode": {
    "name": "ipython",
    "version": 3
   },
   "file_extension": ".py",
   "mimetype": "text/x-python",
   "name": "python",
   "nbconvert_exporter": "python",
   "pygments_lexer": "ipython3",
   "version": "3.12.9"
  },
  "orig_nbformat": 4,
  "vscode": {
   "interpreter": {
    "hash": "c3c5e5b74b02413c78a36d1154fc177d57260c9d451ea89539c66d8b3bbae5e7"
   }
  }
 },
 "nbformat": 4,
 "nbformat_minor": 2
}
