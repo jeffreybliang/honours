{
 "cells": [
  {
   "cell_type": "code",
   "execution_count": null,
   "metadata": {},
   "outputs": [],
   "source": [
    "import ast\n",
    "import numpy as np\n",
    "import trimesh\n",
    "\n",
    "def load_vertices(file_path):\n",
    "    with open(file_path, 'r') as f:\n",
    "        data = f.read()\n",
    "        return np.array(ast.literal_eval(data), dtype=np.float32)\n",
    "\n",
    "def load_faces(file_path):\n",
    "    with open(file_path, 'r') as f:\n",
    "        data = f.read()\n",
    "        flat_indices = list(map(int, data.strip('[]').split(',')))\n",
    "        quads = np.array(flat_indices, dtype=np.int32).reshape(-1, 4)\n",
    "        return quads"
   ]
  },
  {
   "cell_type": "code",
   "execution_count": null,
   "metadata": {},
   "outputs": [],
   "source": [
    "names = [\"meshstart.obj\", \"meshbeforeimpact.obj\", \"meshimpact.obj\", \"meshend.obj\"]\n",
    "meshes = [trimesh.load('/Users/jeffreyliang/Documents/Honours/Blender/Nvidia/Default/' + name) for name in names]\n",
    "meshes[2].show()\n",
    "print([mesh.volume for mesh in meshes])"
   ]
  },
  {
   "cell_type": "code",
   "execution_count": null,
   "metadata": {},
   "outputs": [],
   "source": [
    "names = [\"meshstart.obj\", \"meshbeforeimpact.obj\", \"meshimpact.obj\", \"meshteeter.obj\", \"meshend.obj\"]\n",
    "meshes_stiff = [trimesh.load('/Users/jeffreyliang/Documents/Honours/Blender/Nvidia/Stiff/' + name) for name in names]\n",
    "meshes_stiff[2].show()\n",
    "print([mesh.volume for mesh in meshes_stiff])"
   ]
  },
  {
   "cell_type": "code",
   "execution_count": null,
   "metadata": {},
   "outputs": [],
   "source": [
    "meshes_stiff[1].show()"
   ]
  },
  {
   "cell_type": "code",
   "execution_count": 6,
   "metadata": {},
   "outputs": [
    {
     "data": {
      "text/plain": [
       "0.9999999999999998"
      ]
     },
     "execution_count": 6,
     "metadata": {},
     "output_type": "execute_result"
    }
   ],
   "source": [
    "balloon2 = trimesh.load(\"../../src/data/meshes/sphere.obj\")\n",
    "sphere = trimesh.load(\"../../src/data/meshes/sphere.obj\")\n",
    "\n",
    "balloon2.intersection(sphere, engine=\"manifold\").volume /balloon2.union(sphere, engine=\"manifold\").volume"
   ]
  },
  {
   "cell_type": "code",
   "execution_count": 10,
   "metadata": {},
   "outputs": [
    {
     "data": {
      "text/plain": [
       "0.42036065568464354"
      ]
     },
     "execution_count": 10,
     "metadata": {},
     "output_type": "execute_result"
    }
   ],
   "source": [
    "balloon2 = trimesh.load(\"../../src/data/meshes/parabola_2.obj\")\n",
    "sphere = trimesh.load(\"../../src/data/meshes/sphere.obj\")\n",
    "\n",
    "balloon2.intersection(sphere, engine=\"manifold\").volume /balloon2.union(sphere, engine=\"manifold\").volume"
   ]
  },
  {
   "cell_type": "code",
   "execution_count": null,
   "metadata": {},
   "outputs": [],
   "source": []
  }
 ],
 "metadata": {
  "kernelspec": {
   "display_name": "venv",
   "language": "python",
   "name": "python3"
  },
  "language_info": {
   "codemirror_mode": {
    "name": "ipython",
    "version": 3
   },
   "file_extension": ".py",
   "mimetype": "text/x-python",
   "name": "python",
   "nbconvert_exporter": "python",
   "pygments_lexer": "ipython3",
   "version": "3.12.9"
  },
  "orig_nbformat": 4,
  "vscode": {
   "interpreter": {
    "hash": "c3c5e5b74b02413c78a36d1154fc177d57260c9d451ea89539c66d8b3bbae5e7"
   }
  }
 },
 "nbformat": 4,
 "nbformat_minor": 2
}
