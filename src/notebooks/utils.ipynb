{
 "cells": [
  {
   "cell_type": "code",
   "execution_count": 1,
   "metadata": {},
   "outputs": [],
   "source": [
    "import trimesh\n",
    "def pytorch3d_to_trimesh(p3d_mesh):\n",
    "    # Get vertices and faces from the PyTorch3D mesh\n",
    "    vertices = p3d_mesh.verts_packed().detach().cpu().numpy()\n",
    "    faces = p3d_mesh.faces_packed().detach().cpu().numpy()\n",
    "\n",
    "    # Create a Trimesh object\n",
    "    return trimesh.Trimesh(vertices=vertices, faces=faces)"
   ]
  },
  {
   "cell_type": "code",
   "execution_count": null,
   "metadata": {},
   "outputs": [],
   "source": [
    "# If you want to have meshes with different number of vertices:\n",
    "\n",
    "\n"
   ]
  },
  {
   "cell_type": "code",
   "execution_count": null,
   "metadata": {},
   "outputs": [],
   "source": [
    "def equality_constraints(self, xs: torch.Tensor, y: torch.Tensor):\n",
    "    \"\"\"\n",
    "    Enforces volume constraint\n",
    "    Assumes same number of vertices in each projected mesh currently\n",
    "\n",
    "    Args:\n",
    "        xs (tensor): vertices of original mesh, B x V x 3\n",
    "        y (tensor): vertices of projected mesh, B x V x 3\n",
    "    \"\"\"\n",
    "    n_batches = len(xs)\n",
    "    verts = y.view(n_batches,-1,3) # (B, V, 3)\n",
    "\n",
    "    faces = self.src.faces_padded().view(n_batches, -1, 3).detach()  # (B, max F_i, 3)\n",
    "    _, n_faces, _ = faces.size()\n",
    "    batch_indices = torch.arange(n_batches)[:, None, None].expand(-1, n_faces, 3).detach() # detached\n",
    "\n",
    "    face_vertices = verts[batch_indices, faces]  # (B, F, 3, 3)\n",
    "    # Calculate volume\n",
    "    v0, v1, v2 = face_vertices[:, :, 0, :], face_vertices[:, :, 1, :], face_vertices[:, :, 2, :]\n",
    "    cross = torch.cross(v1, v2, dim=-1)  # (B, F, 3)\n",
    "    face_volumes = torch.einsum('bfi,bfi->bf', v0, cross) / 6.0  # (B, F)\n",
    "\n",
    "    volumes = torch.sum(face_volumes, dim=1).abs() # (B,)\n",
    "    return volumes  # (B,)\n"
   ]
  }
 ],
 "metadata": {
  "kernelspec": {
   "display_name": "venv",
   "language": "python",
   "name": "python3"
  },
  "language_info": {
   "codemirror_mode": {
    "name": "ipython",
    "version": 3
   },
   "file_extension": ".py",
   "mimetype": "text/x-python",
   "name": "python",
   "nbconvert_exporter": "python",
   "pygments_lexer": "ipython3",
   "version": "3.12.9"
  },
  "orig_nbformat": 4,
  "vscode": {
   "interpreter": {
    "hash": "c3c5e5b74b02413c78a36d1154fc177d57260c9d451ea89539c66d8b3bbae5e7"
   }
  }
 },
 "nbformat": 4,
 "nbformat_minor": 2
}
