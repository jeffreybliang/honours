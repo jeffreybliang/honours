{
 "cells": [
  {
   "cell_type": "code",
   "execution_count": 8,
   "metadata": {},
   "outputs": [
    {
     "name": "stdout",
     "output_type": "stream",
     "text": [
      "tensor([0., 0., 1.])\n"
     ]
    },
    {
     "data": {
      "text/plain": [
       "tensor(0.1667)"
      ]
     },
     "execution_count": 8,
     "metadata": {},
     "output_type": "execute_result"
    }
   ],
   "source": [
    "## volume calculation\n",
    "\n",
    "\n",
    "# have a pytorch mesh\n",
    "from pytorch3d.structures import Meshes\n",
    "import torch\n",
    "\n",
    "def get_signed_tet_volume(triangle):\n",
    "    \"\"\"\n",
    "    triangle is a Tensor of 3 x 3, 3 vertices each with 3 coordinates\n",
    "    \"\"\"\n",
    "    v1,v2,v3 = triangle\n",
    "    return torch.dot(v1,torch.cross(v2,v3))/6.0 # could also move this later\n",
    "\n",
    "def get_volume(mesh: Meshes):\n",
    "    volume = 0\n",
    "    for triangle in mesh.faces_list():\n",
    "        volume += get_signed_tet_volume(triangle)\n",
    "    return volume   \n",
    "\n",
    "def get_parallelepiped_volume(triangle):\n",
    "    v1,v2,v3 = triangle\n",
    "    return torch.dot(v1,torch.cross(v2,v3)) # could also move this later\n",
    "\n",
    "def get_volume(mesh: Meshes):\n",
    "    volume = 0.0\n",
    "    for triangle in mesh.faces_list():\n",
    "        volume += get_parallelepiped_volume(triangle)\n",
    "    return volume / 6.0\n",
    "\n",
    "def get_volume_batch(meshes: Meshes):\n",
    "    faces = meshes.faces_packed()\n",
    "    faces_to_mesh_idx = meshes.faces_packed_to_mesh_idx()\n",
    "    mesh_to_first_idx = meshes.mesh_to_faces_packed_first_idx()\n",
    "    n_meshes = len(mesh_to_first_idx)\n",
    "    volume = torch.zeros(n_meshes)\n",
    "    for i in range(n_meshes):\n",
    "        first_idx = mesh_to_first_idx[i]\n",
    "        \n",
    "        while \n",
    "    for triangle in mesh.faces_list():\n",
    "        volume += get_parallelepiped_volume(triangle)\n",
    "    return volume / 6.0\n",
    "\n"
   ]
  },
  {
   "cell_type": "code",
   "execution_count": 16,
   "metadata": {},
   "outputs": [],
   "source": [
    "import torch\n",
    "\n",
    "def get_signed_tet_volume(face_vertices: torch.Tensor) -> torch.Tensor:\n",
    "    \"\"\"\n",
    "    Compute signed tetrahedron volumes for a batch of faces.\n",
    "\n",
    "    Args:\n",
    "        face_vertices (torch.Tensor): Tensor of shape (F, 3, 3), where\n",
    "                                      F is the number of faces, and each face\n",
    "                                      consists of 3 vertices in 3D.\n",
    "\n",
    "    Returns:\n",
    "        torch.Tensor: A tensor of shape (F,) containing signed volumes.\n",
    "    \"\"\"\n",
    "    v0, v1, v2 = face_vertices[:, 0, :], face_vertices[:, 1, :], face_vertices[:, 2, :]\n",
    "    \n",
    "    # Compute determinant of the 3x3 matrix [v0, v1, v2]\n",
    "    volumes = torch.det(torch.stack([v0, v1, v2], dim=-1)) / 6.0  # Shape: (F,)\n",
    "\n",
    "    return volumes\n",
    "\n",
    "def get_volume_batch(meshes: Meshes):\n",
    "    verts_packed = meshes.verts_packed()  # (sum(V_i), 3)\n",
    "    faces_packed = meshes.faces_packed()  # (sum(F_i), 3)\n",
    "    mesh_to_face = meshes.mesh_to_faces_packed_first_idx()  # Index of first face per mesh\n",
    "\n",
    "    volumes = torch.zeros(meshes.num_meshes(), device=verts_packed.device)\n",
    "\n",
    "    for i in range(meshes.num_meshes()):\n",
    "        start = mesh_to_face[i]\n",
    "        end = start + meshes.num_faces_per_mesh()[i]\n",
    "        face_vertices = verts_packed[faces_packed[start:end]]  # (F, 3, 3)\n",
    "        volumes[i] = get_signed_tet_volume(face_vertices).sum()  # Sum over all faces\n",
    "\n",
    "    return volumes  # Returns a tensor of shape (num_meshes,)\n",
    "\n",
    "\n",
    "def get_volume_scatter_add(meshes: Meshes):\n",
    "    verts_packed = meshes.verts_packed()  # (sum(V_i), 3)\n",
    "    faces_packed = meshes.faces_packed()  # (sum(F_i), 3)\n",
    "    \n",
    "    face_vertices = verts_packed[faces_packed]  # (sum(F_i), 3, 3)\n",
    "    face_volumes = get_signed_tet_volume(face_vertices)  # (sum(F_i),)\n",
    "\n",
    "    # Sum per mesh using torch_scatter (alternative: torch.segment_sum in newer PyTorch)\n",
    "    volumes = torch.zeros(meshes.num_meshes(), device=verts_packed.device, dtype=face_volumes.dtype)\n",
    "    volumes.scatter_add(0, meshes.faces_packed_to_mesh_idx(), face_volumes)\n",
    "\n",
    "    return volumes  # Shape: (num_meshes,)"
   ]
  },
  {
   "cell_type": "code",
   "execution_count": null,
   "metadata": {},
   "outputs": [],
   "source": []
  }
 ],
 "metadata": {
  "kernelspec": {
   "display_name": "venv",
   "language": "python",
   "name": "python3"
  },
  "language_info": {
   "codemirror_mode": {
    "name": "ipython",
    "version": 3
   },
   "file_extension": ".py",
   "mimetype": "text/x-python",
   "name": "python",
   "nbconvert_exporter": "python",
   "pygments_lexer": "ipython3",
   "version": "3.12.9"
  },
  "orig_nbformat": 4,
  "vscode": {
   "interpreter": {
    "hash": "c3c5e5b74b02413c78a36d1154fc177d57260c9d451ea89539c66d8b3bbae5e7"
   }
  }
 },
 "nbformat": 4,
 "nbformat_minor": 2
}
